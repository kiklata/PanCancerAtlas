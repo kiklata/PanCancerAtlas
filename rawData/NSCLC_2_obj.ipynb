{
 "cells": [
  {
   "cell_type": "code",
   "execution_count": 2,
   "metadata": {},
   "outputs": [],
   "source": [
    "import scanpy as sc\n",
    "import pandas as pd\n",
    "import scipy.io as sio"
   ]
  },
  {
   "cell_type": "code",
   "execution_count": 3,
   "metadata": {},
   "outputs": [
    {
     "data": {
      "text/plain": [
       "AnnData object with n_obs × n_vars = 5603 × 33694\n",
       "    obs: 'ClusterID', 'ClusterName', 'Clusterings', 'Embedding', 'Embeddings_X', 'Embeddings_Y', 'RegulonsAUC'\n",
       "    var: 'Regulons'"
      ]
     },
     "execution_count": 3,
     "metadata": {},
     "output_type": "execute_result"
    }
   ],
   "source": [
    "adata = sc.read_loom('/home/zhepan/Project/PanCancerAtlas/data/NSCLC_2/loom/b-cells.loom',validate=False)\n",
    "adata"
   ]
  },
  {
   "cell_type": "code",
   "execution_count": null,
   "metadata": {},
   "outputs": [],
   "source": [
    "#adata = sc.read_h5ad(\"/home/zhepan/Project/PanCancerAtlas/data/NSCLC_2/h5ad/t-cells.h5ad\")\n",
    "#adata"
   ]
  },
  {
   "cell_type": "code",
   "execution_count": 4,
   "metadata": {},
   "outputs": [],
   "source": [
    "sio.mmwrite(\"/home/zhepan/Project/PanCancerAtlas/data/NSCLC_2/b-cells.mtx\",adata.X)\n",
    "adata.var_names.to_series().to_csv(\"/home/zhepan/Project/PanCancerAtlas/data/NSCLC_2/b-cells.genes.tsv\",header=False,index=False)\n",
    "adata.obs_names.to_series().to_csv(\"/home/zhepan/Project/PanCancerAtlas/data/NSCLC_2/b-cells.barcodes.tsv\",header=False,index=False)"
   ]
  },
  {
   "cell_type": "code",
   "execution_count": 5,
   "metadata": {},
   "outputs": [],
   "source": [
    "\n",
    "meta=pd.DataFrame(data=adata.obs['ClusterName'])\n",
    "meta.to_csv('/home/zhepan/Project/PanCancerAtlas/data/NSCLC_2/b-cells.metadata.tsv',sep=\"\\t\")\n"
   ]
  }
 ],
 "metadata": {
  "kernelspec": {
   "display_name": "scRNA",
   "language": "python",
   "name": "python3"
  },
  "language_info": {
   "codemirror_mode": {
    "name": "ipython",
    "version": 3
   },
   "file_extension": ".py",
   "mimetype": "text/x-python",
   "name": "python",
   "nbconvert_exporter": "python",
   "pygments_lexer": "ipython3",
   "version": "3.9.16"
  },
  "orig_nbformat": 4
 },
 "nbformat": 4,
 "nbformat_minor": 2
}
